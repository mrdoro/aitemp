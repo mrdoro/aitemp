{
 "cells": [
  {
   "cell_type": "markdown",
   "metadata": {},
   "source": [
    "# งานที่ 3: ใช้ Amazon Bedrock สำหรับการตอบคำถาม\n",
    "\n",
    "ในโน้ตบุ๊กนี้ คุณจะได้เรียนรู้วิธีใช้โมเดล Bedrock Titan เพื่อให้การตอบกลับเป็นข้อมูลเมื่อได้รับคำถาม โดยส่งคำขอพร้อมบริบทที่เกี่ยวข้องทั้งหมดไปยังโมเดลและคาดหวังการตอบกลับ ตอบสนองต่อความท้าทายในการให้โมเดลส่งคำตอบเป็นข้อเท็จจริงสำหรับคำถาม โดยไม่จำเป็นต้องเตรียมและจัดทำเอกสารดัชนีล่วงหน้า\n",
    "\n",
    "โน้ตบุ๊กนี้จำลองสิ่งที่ **Retrieval-Augmented Generation (RAG)** สามารถทำอะไรได้บ้าง แต่ไม่ได้ใช้ RAG จริงๆ วิธีการนี้ใช้ได้กับเอกสารสั้นๆ หรือแอปพลิเคชันแบบ single-ton โดยอาจไม่มีการปรับขนาดตามคำตอบของคำถามระดับองค์กร ซึ่งเอกสารองค์กรขนาดใหญ่ไม่สามารถใส่เข้ากับพรอมต์คำสั่งที่ส่งไปยังโมเดลได้\n",
    "\n",
    "**การตอบคำถาม (QA)** เป็นงานสำคัญที่เกี่ยวข้องกับการแยกคำตอบสำหรับคำถามข้อเท็จจริงที่เกิดขึ้นในภาษาธรรมชาติ โดยทั่วไป ระบบ QA จะประมวลผลคำถามกับฐานความรู้ที่มีข้อมูลซึ่งที่มีหรือไม่มีโครงสร้าง และสร้างการตอบกลับที่มีข้อมูลที่ถูกต้อง การรับประกันความแม่นยำสูงเป็นกุญแจสำคัญในการพัฒนาระบบตอบคำถามที่มีประโยชน์ ไว้วางใจได้ และเชื่อถือได้ โดยเฉพาะในกรณีการใช้งานในระดับองค์กร"
   ]
  },
  {
   "cell_type": "markdown",
   "metadata": {},
   "source": [
    "\n",
    "## สถานการณ์\n",
    "\n",
    "คุณลองสร้างโมเดลสถานการณ์ที่ AnyCompany ที่คุณถามคำถามโมเดลเพื่อตอบคำถามที่ให้ข้อมูลเกี่ยวกับการเปลี่ยนยางสำหรับรถโมเดลเฉพาะที่ตนผลิต ก่อนอื่นคุณต้องทำการคิวรีโมเดลโดยใช้วิธี “zero shot” เพื่อดูว่าสามารถให้คำตอบที่เกี่ยวข้องตามข้อมูลที่ได้ฝึกมาหรือไม่\n",
    "\n",
    "อย่างไรก็ตาม คุณรู้ว่าโมเดลนี้ดูเหมือนจะมีคำตอบทั่วไปที่ “ไม่จริง” เยอะ ตามที่ได้พิสูจน์เมื่อลองโมเดลยานพาหนะปลอมและได้รับการตอบกลับที่คล้ายกัน นี่หมายความว่าจำเป็นต้องเพิ่มการฝึกด้วยคู่มือยานพาหนะจริงของ Example Company เพื่อระบุรายละเอียดเกี่ยวกับยางสำหรับรถแต่ละรุ่น\n",
    "\n",
    "ในแล็บนี้ คุณจำลองวิธีการ “การสร้างการดึงข้อมูลเพิ่มขึ้น” (RAG) โดยไม่มีข้อมูลภายนอก คุณให้ข้อความที่ตัดตอนมาโดยละเอียดเกี่ยวกับวิธีการเปลี่ยนยางในรถยนต์ AnyCompany Model Z คุณจะทดสอบว่าตอนนี้โมเดลสามารถให้คำตอบที่กำหนดเองและถูกต้องโดยใช้ประโยชน์จากเนื้อหาตัวอย่างในบริบทนี้หรือไม่"
   ]
  },
  {
   "cell_type": "markdown",
   "metadata": {},
   "source": [
    "## งานที่ 3.1: การตั้งค่าสภาพแวดล้อม\n",
    "\n",
    "ในงานนี้ ให้ตั้งค่าสภาพแวดล้อมของคุณ"
   ]
  },
  {
   "cell_type": "code",
   "execution_count": null,
   "metadata": {
    "tags": []
   },
   "outputs": [],
   "source": [
    "#ignore warnings and create a service client by name using the default session.\n",
    "import json\n",
    "import os\n",
    "import sys\n",
    "import warnings\n",
    "\n",
    "import boto3\n",
    "import botocore\n",
    "\n",
    "warnings.filterwarnings('ignore')\n",
    "module_path = \"..\"\n",
    "sys.path.append(os.path.abspath(module_path))\n",
    "bedrock_client = boto3.client('bedrock-runtime',region_name=os.environ.get(\"AWS_DEFAULT_REGION\", None))\n",
    "\n"
   ]
  },
  {
   "cell_type": "markdown",
   "metadata": {},
   "source": [
    "## งานที่ 3.2: คำถามและคำตอบด้วยความรู้เกี่ยวกับโมเดล\n",
    "ในส่วนนี้ เราพยายามใช้โมเดลที่จัดทำโดยบริการ Bedrock เพื่อตอบคำถามตามความรู้ที่ได้รับในระหว่างขั้นตอนการฝึก"
   ]
  },
  {
   "cell_type": "markdown",
   "metadata": {},
   "source": [
    "ในงานนี้ ให้คุณใช้วิธี invoke_model () ของไคลเอ็นต์ Amazon Bedrock พารามิเตอร์ที่จำเป็นในการใช้วิธีนี้คือ modelId ซึ่งแทนโมเดล Amazon Bedrock ARN และ Body ซึ่งเป็นพรอมต์คำสั่งสำหรับงานของคุณ\n",
    "\n",
    "พรอมต์คำสั่ง Body จะเปลี่ยนแปลงโดยขึ้นอยู่กับผู้ให้บริการโมเดลพื้นฐานที่คุณเลือกใช้ คุณลองดูรายละเอียดด้านล่าง\n",
    "\n",
    "```json\n",
    "{\n",
    "   modelId= model_id,\n",
    "   contentType= \"application/json\",\n",
    "   accept= \"application/json\",\n",
    "   body=body\n",
    "}\n",
    "\n",
    "```\n",
    "\n",
    "คุณพยายามใช้โมเดลที่ให้บริการโดยบริการ Bedrock เพื่อตอบคำถามตามความรู้ที่ได้รับในระหว่างขั้นตอนการฝึก"
   ]
  },
  {
   "cell_type": "code",
   "execution_count": null,
   "metadata": {
    "tags": []
   },
   "outputs": [],
   "source": [
    "prompt_data = \"\"\"You are an helpful assistant. Answer questions in a concise way. If you are unsure about the\n",
    "answer say 'I am unsure'\n",
    "\n",
    "Question: How can I fix a flat tire on my AnyCompany AC8?\n",
    "Answer:\"\"\"\n",
    "parameters = {\n",
    "    \"maxTokenCount\":512,\n",
    "    \"stopSequences\":[],\n",
    "    \"temperature\":0,\n",
    "    \"topP\":0.9\n",
    "    }"
   ]
  },
  {
   "cell_type": "markdown",
   "metadata": {},
   "source": [
    "## งานที่ 3.3: เรียกโมเดลโดยส่งผ่าน Body ของ JSON เพื่อสร้างการตอบกลับ"
   ]
  },
  {
   "cell_type": "code",
   "execution_count": null,
   "metadata": {
    "tags": []
   },
   "outputs": [],
   "source": [
    "#model configuration\n",
    "body = json.dumps({\"inputText\": prompt_data, \"textGenerationConfig\": parameters})\n",
    "modelId = \"amazon.titan-text-express-v1\"  # change this to use a different version from the model provider\n",
    "accept = \"application/json\"\n",
    "contentType = \"application/json\"\n",
    "try:\n",
    "    \n",
    "    response = bedrock_client.invoke_model(\n",
    "        body=body, modelId=modelId, accept=accept, contentType=contentType\n",
    "    )\n",
    "    response_body = json.loads(response.get(\"body\").read())\n",
    "    answer = response_body.get(\"results\")[0].get(\"outputText\")\n",
    "    print(answer.strip())\n",
    "\n",
    "except botocore.exceptions.ClientError as error:\n",
    "    if  error.response['Error']['Code'] == 'AccessDeniedException':\n",
    "        print(f\"\\x1b[41m{error.response['Error']['Message']}\\\n",
    "        \\nTo troubeshoot this issue please refer to the following resources.\\\n",
    "         \\nhttps://docs.aws.amazon.com/IAM/latest/UserGuide/troubleshoot_access-denied.html\\\n",
    "         \\nhttps://docs.aws.amazon.com/bedrock/latest/userguide/security-iam.html\\x1b[0m\\n\")      \n",
    "        class StopExecution(ValueError):\n",
    "            def _render_traceback_(self):\n",
    "                pass\n",
    "        raise StopExecution        \n",
    "    else:\n",
    "        raise error"
   ]
  },
  {
   "cell_type": "markdown",
   "metadata": {},
   "source": [
    "\n",
    "โมเดลนี้ให้คำตอบเกี่ยวกับกระบวนการเปลี่ยนยางที่แบนของรถ โดยคำอธิบายเดียวกันนี้อาจสามารถใช้ได้กับรถยนต์ทุกคัน น่าเสียดายที่นี่ไม่ใช่คำตอบที่ถูกต้องสำหรับ AnyCompany AC8 ซึ่งไม่มียางสำรอง สิ่งนี้เกิดขึ้นได้เนื่องจากโมเดลได้รับการฝึกเกี่ยวกับข้อมูลที่มีคำแนะนำเกี่ยวกับการเปลี่ยนยางรถยนต์\n",
    "\n",
    "อีกตัวอย่างหนึ่งของปัญหานี้สามารถมองเห็นได้โดยลองถามคำถามเดียวกันเรื่องยี่ห้อและโมเดลของรถที่เป็นของปลอม โดยสมมติว่าเป็น Amazon Tirana"
   ]
  },
  {
   "cell_type": "code",
   "execution_count": null,
   "metadata": {
    "tags": []
   },
   "outputs": [],
   "source": [
    "prompt_data = \"How can I fix a flat tire on my Amazon Tirana?\"\n",
    "body = json.dumps({\"inputText\": prompt_data, \n",
    "                   \"textGenerationConfig\": parameters})\n",
    "modelId = \"amazon.titan-text-express-v1\"  # change this to use a different version from the model provider\n",
    "accept = \"application/json\"\n",
    "contentType = \"application/json\"\n",
    "\n",
    "response = bedrock_client.invoke_model(\n",
    "    body=body, modelId=modelId, accept=accept, contentType=contentType\n",
    ")\n",
    "response_body = json.loads(response.get(\"body\").read())\n",
    "answer = response_body.get(\"results\")[0].get(\"outputText\")\n",
    "print(answer.strip())"
   ]
  },
  {
   "cell_type": "markdown",
   "metadata": {},
   "source": [
    "เมื่อประเมินจากคำถามพรอมต์คำสั่งแล้ว โมเดลจะไม่สามารถให้คำตอบที่สมจริงได้\n",
    "\n",
    "หากต้องการแก้ไขปัญหานี้และให้โมเดลตอบตามคำสั่งที่เฉพาะเจาะจงที่ถูกต้องสำหรับโมเดลรถของคุณ คุณสามารถเพิ่มความรู้ของโมเดลได้ทันทีโดยให้ฐานความรู้เพิ่มเติมเป็นส่วนหนึ่งของพรอมต์คำสั่ง\n",
    "\n",
    "มาดูกันว่าคุณจะใช้สิ่งนี้เพื่อปรับปรุงแอปพลิเคชันของคุณได้อย่างไรบ้าง\n",
    "\n",
    "สมมติว่าต่อไปนี้เป็นข้อความที่ตัดตอนมาจากคู่มือของ AnyCompany AC8 (ในความเป็นจริง นี่ไม่ใช่คู่มือจริง แต่ให้สมมติกันว่าเป็นของจริง) เอกสารนี้สั้นพอที่จะพอดีกับหน้าต่างบริบทของ Titan Large ทั้งหมด\n",
    "\n",
    "```plain\n",
    "ยางรถและความดันลมยาง:\n",
    "\n",
    "ยางรถทำมาจากยางสีดำและติดตั้งบนล้อของยานพาหนะของคุณ ยางรถจะให้การยึดเกาะที่จำเป็นสำหรับการขับขี่ทางโค้งและการเบรก ปัจจัยสำคัญสองประการที่ควรพิจารณาคือ ความดันลมยางและการสึกหรอของยางเนื่องจากอาจส่งผลต่อประสิทธิภาพและการควบคุมรถของคุณ\n",
    "\n",
    "จะหาแรงดันยางที่แนะนำได้ที่ไหน:\n",
    "\n",
    "คุณสามารถดูข้อมูลจำเพาะความดันลมยางที่แนะนำได้บนฉลากอัตราการเติมน้ำมันที่อยู่บนเสา B ด้านคนขับของรถ หรือคุณสามารถอ้างอิงจากคู่มือรถสำหรับข้อมูลนี้ ความดันลมยางที่แนะนำอาจแตกต่างกันไปขึ้นอยู่กับความเร็วและจำนวนผู้โดยสารหรือน้ำหนักบรรทุกสูงสุดในรถ\n",
    "\n",
    "การเติมลมยางใหม่:\n",
    "\n",
    "เมื่อตรวจสอบความดันลมยาง สิ่งสำคัญคือต้องทำเมื่อยางเย็น ซึ่งหมายความว่าให้ยานพาหนะจอดนิ่งเป็นเวลาอย่างน้อยสามชั่วโมงเพื่อให้แน่ใจว่ายางอยู่ในอุณหภูมิเดียวกับอุณหภูมิแวดล้อม\n",
    "\n",
    "วิธีเติมลมยาง:\n",
    "\n",
    "    ตรวจสอบความดันลมยางที่แนะนำสำหรับยานพาหนะของคุณ\n",
    "    ทำตามคำแนะนำที่มีบนปั๊มลม และเติมลมยางด้วยแรงดันที่ถูกต้อง\n",
    "    ในจอแสดงผลตรงกลางของยานพาหนะของคุณ ให้เปิดแอป “สถานะรถยนต์”\n",
    "    ไปที่แท็บ “ความดันลมยาง”\n",
    "    กดตัวเลือก “ปรับเทียบความดัน” และยืนยันการกระทำ\n",
    "    ขับรถสักสองสามนาทีด้วยความเร็วสูงกว่า 30 กม./ชม. เพื่อปรับเทียบความดันลมยาง\n",
    "\n",
    "หมายเหตุ: ในบางกรณี อาจจำเป็นต้องขับรถนานกว่า 15 นาทีเพื่อให้สัญลักษณ์เตือนหรือข้อความที่เกี่ยวข้องกับความดันลมยางหายไป หากคำเตือนยังคงอยู่ ให้ปล่อยให้ยางเย็นลงและทำซ้ำขั้นตอนข้างต้น\n",
    "\n",
    "ยางแบน:\n",
    "\n",
    "หากยางแบนขณะขับรถ คุณสามารถปะยางชั่วคราวและเติมลงยางใหม่โดยใช้ชุดซ่อมยางพกพาได้ โดยปกติชุดนี้จะถูกเก็บไว้ใต้ที่บุรองบริเวณที่วางกระเป๋าเดินทางในรถ\n",
    "\n",
    "คำแนะนำในการใช้ชุดซ่อมยางพกพา:\n",
    "\n",
    "    เปิดประตูท้ายหรือท้ายรถ\n",
    "    ยกที่บุรองบริเวณที่วางกระเป๋าเดินทางขึ้นเพื่อเข้าถึงชุดซ่อมยางพกพา\n",
    "    ทำตามคำแนะนำที่ให้มาพร้อมกับชุดซ่อมยางพกพาเพื่อทำการปะยาง\n",
    "    หลังจากใช้ชุดซ่อมแล้ว ตรวจสอบว่าได้วางกลับเข้าตำแหน่งเดิมอย่างแน่นหนา\n",
    "    ติดต่อ Rivesla หรือบริการที่เหมาะสมเพื่อขอความช่วยเหลือในการกำจัดและเปลี่ยนขวดกาวที่ใช้แล้ว\n",
    "\n",
    "โปรดทราบว่าชุดซ่อมยางพกพาเป็นวิธีแก้ปัญหาชั่วคราวและได้รับการออกแบบมาเพื่อให้คุณสามารถขับรถได้สูงสุด 10 นาที หรือ 8 กม. (ไม่ว่าข้อใดจะเกิดขึ้นก่อน) ด้วยความเร็วสูงสุด 80 กม./ชม. ขอแนะนำให้เปลี่ยนยางที่รั่วหรือให้ช่างซ่อมมืออาชีพโดยเร็วที่สุด\n",
    "```"
   ]
  },
  {
   "cell_type": "code",
   "execution_count": null,
   "metadata": {},
   "outputs": [],
   "source": [
    "context = \"\"\"Tires and tire pressure:\n",
    "\n",
    "Tires are made of black rubber and are mounted on the wheels of your vehicle. They provide the necessary grip for driving, cornering, and braking. Two important factors to consider are tire pressure and tire wear, as they can affect the performance and handling of your car.\n",
    "\n",
    "Where to find recommended tire pressure:\n",
    "\n",
    "You can find the recommended tire pressure specifications on the inflation label located on the driver's side B-pillar of your vehicle. Alternatively, you can refer to your vehicle's manual for this information. The recommended tire pressure may vary depending on the speed and the number of occupants or maximum load in the vehicle.\n",
    "\n",
    "Reinflating the tires:\n",
    "\n",
    "When checking tire pressure, it is important to do so when the tires are cold. This means allowing the vehicle to sit for at least three hours to ensure the tires are at the same temperature as the ambient temperature.\n",
    "\n",
    "To reinflate the tires:\n",
    "\n",
    "    Check the recommended tire pressure for your vehicle.\n",
    "    Follow the instructions provided on the air pump and inflate the tire(s) to the correct pressure.\n",
    "    In the center display of your vehicle, open the \"Car status\" app.\n",
    "    Navigate to the \"Tire pressure\" tab.\n",
    "    Press the \"Calibrate pressure\" option and confirm the action.\n",
    "    Drive the car for a few minutes at a speed above 30 km/h to calibrate the tire pressure.\n",
    "\n",
    "Note: In some cases, it may be necessary to drive for more than 15 minutes to clear any warning symbols or messages related to tire pressure. If the warnings persist, allow the tires to cool down and repeat the above steps.\n",
    "\n",
    "Flat Tire:\n",
    "\n",
    "If you encounter a flat tire while driving, you can temporarily seal the puncture and reinflate the tire using a tire mobility kit. This kit is typically stored under the lining of the luggage area in your vehicle.\n",
    "\n",
    "Instructions for using the tire mobility kit:\n",
    "\n",
    "    Open the tailgate or trunk of your vehicle.\n",
    "    Lift up the lining of the luggage area to access the tire mobility kit.\n",
    "    Follow the instructions provided with the tire mobility kit to seal the puncture in the tire.\n",
    "    After using the kit, make sure to securely put it back in its original location.\n",
    "    Contact AnyCompany or an appropriate service for assistance with disposing of and replacing the used sealant bottle.\n",
    "\n",
    "Please note that the tire mobility kit is a temporary solution and is designed to allow you to drive for a maximum of 10 minutes or 8 km (whichever comes first) at a maximum speed of 80 km/h. It is advisable to replace the punctured tire or have it repaired by a professional as soon as possible.\"\"\""
   ]
  },
  {
   "cell_type": "markdown",
   "metadata": {},
   "source": [
    "##### ตอนนี้ ให้ส่งข้อความที่ตัดตอนมาทั้งหมดไปยังโมเดลพร้อมกับคำถาม"
   ]
  },
  {
   "cell_type": "code",
   "execution_count": null,
   "metadata": {},
   "outputs": [],
   "source": [
    "question = \"How can I fix a flat tire on my AnyCompany AC8?\"\n",
    "prompt_data = f\"\"\"Answer the question based only on the information provided between ## and give step by step guide.\n",
    "#\n",
    "{context}\n",
    "#\n",
    "\n",
    "Question: {question}\n",
    "Answer:\"\"\""
   ]
  },
  {
   "cell_type": "markdown",
   "metadata": {},
   "source": [
    "### งานที่ 3.4: เรียกโมเดลผ่าน boto3 เพื่อสร้างการตอบกลับ"
   ]
  },
  {
   "cell_type": "code",
   "execution_count": null,
   "metadata": {},
   "outputs": [],
   "source": [
    "body = json.dumps({\"inputText\": prompt_data, \"textGenerationConfig\": parameters})\n",
    "modelId = \"amazon.titan-text-express-v1\"  # change this to use a different version from the model provider\n",
    "accept = \"application/json\"\n",
    "contentType = \"application/json\"\n",
    "\n",
    "response = bedrock_client.invoke_model(\n",
    "    body=body, modelId=modelId, accept=accept, contentType=contentType\n",
    ")\n",
    "response_body = json.loads(response.get(\"body\").read())\n",
    "answer = response_body.get(\"results\")[0].get(\"outputText\")\n",
    "print(answer.strip())"
   ]
  },
  {
   "cell_type": "markdown",
   "metadata": {},
   "source": [
    "เนื่องจากโมเดลใช้เวลาสักครู่ในการทำความเข้าใจบริบทและสร้างคำตอบที่เกี่ยวข้องสำหรับคุณ สิ่งนี้อาจนำไปสู่ประสบการณ์ของผู้ใช้ที่ไม่ดีเนื่องจากลูกค้าต้องรอการตอบกลับเป็นเวลาสองสามวินาที\n",
    "\n",
    "Bedrock ยังรองรับความสามารถในการสตรีมมิ่งที่บริการสร้างเอาต์พุตในขณะที่โมเดลสร้างโทเค็น นี่คือตัวอย่างของวิธีที่คุณสามารถนำไปใช้ได้"
   ]
  },
  {
   "cell_type": "code",
   "execution_count": null,
   "metadata": {},
   "outputs": [],
   "source": [
    "from IPython.display import display_markdown,Markdown,clear_output"
   ]
  },
  {
   "cell_type": "code",
   "execution_count": null,
   "metadata": {},
   "outputs": [],
   "source": [
    "# response with stream\n",
    "response = bedrock_client.invoke_model_with_response_stream(body=body, modelId=modelId, accept=accept, contentType=contentType)\n",
    "stream = response.get('body')\n",
    "output = []\n",
    "i = 1\n",
    "if stream:\n",
    "    for event in stream:\n",
    "        chunk = event.get('chunk')\n",
    "        if chunk:\n",
    "            chunk_obj = json.loads(chunk.get('bytes').decode())\n",
    "            text = chunk_obj['outputText']\n",
    "            clear_output(wait=True)\n",
    "            output.append(text)\n",
    "            display_markdown(Markdown(''.join(output)))\n",
    "            i+=1"
   ]
  },
  {
   "cell_type": "markdown",
   "metadata": {},
   "source": [
    "การตอบกลับจะประกอบไปด้วยคำแนะนำที่มีการสรุปทีละขั้นตอนเกี่ยวกับวิธีการเปลี่ยนยาง \n",
    "\n",
    "ตอนนี้คุณได้เรียนรู้แล้วว่า คุณสามารถใช้ประโยชน์จาก Recrieval Augmented Generation (RAG) หรือกระบวนการ Augmentation เพื่อสร้างการตอบกลับที่คัดสรรมาแล้ว ซึ่งปรับให้เหมาะกับบริบทและข้อมูลที่เฉพาะเจาะจง"
   ]
  },
  {
   "cell_type": "markdown",
   "metadata": {},
   "source": [
    "### ลองด้วยตัวเอง\n",
    "- เปลี่ยนพรอมต์คำสั่งตามฐานการใช้งานเฉพาะของคุณและประเมินเอาต์พุตของโมเดลต่างๆ\n",
    "- เล่นด้วยความยาวโทเค็นเพื่อทำความเข้าใจเวลาแฝงและการตอบกลับของบริการ\n",
    "- ใช้หลักการวิศวกรรมการโต้ตอบที่แตกต่างกันเพื่อให้ได้เอาต์พุตที่ดีขึ้น\n",
    "\n",
    "### เก็บงาน\n",
    "\n",
    "คุณทำโน้ตบุ๊กนี้เสร็จแล้ว หากต้องการย้ายไปยังส่วนถัดไปของแล็บ ให้ทำดังนี้\n",
    "\n",
    "- ปิดไฟล์โน้ตบุ๊กนี้และไปต่อยัง **งานที่ 4**"
   ]
  }
 ],
 "metadata": {
  "availableInstances": [
   {
    "_defaultOrder": 0,
    "_isFastLaunch": true,
    "category": "General purpose",
    "gpuNum": 0,
    "hideHardwareSpecs": false,
    "memoryGiB": 4,
    "name": "ml.t3.medium",
    "vcpuNum": 2
   },
   {
    "_defaultOrder": 1,
    "_isFastLaunch": false,
    "category": "General purpose",
    "gpuNum": 0,
    "hideHardwareSpecs": false,
    "memoryGiB": 8,
    "name": "ml.t3.large",
    "vcpuNum": 2
   },
   {
    "_defaultOrder": 2,
    "_isFastLaunch": false,
    "category": "General purpose",
    "gpuNum": 0,
    "hideHardwareSpecs": false,
    "memoryGiB": 16,
    "name": "ml.t3.xlarge",
    "vcpuNum": 4
   },
   {
    "_defaultOrder": 3,
    "_isFastLaunch": false,
    "category": "General purpose",
    "gpuNum": 0,
    "hideHardwareSpecs": false,
    "memoryGiB": 32,
    "name": "ml.t3.2xlarge",
    "vcpuNum": 8
   },
   {
    "_defaultOrder": 4,
    "_isFastLaunch": true,
    "category": "General purpose",
    "gpuNum": 0,
    "hideHardwareSpecs": false,
    "memoryGiB": 8,
    "name": "ml.m5.large",
    "vcpuNum": 2
   },
   {
    "_defaultOrder": 5,
    "_isFastLaunch": false,
    "category": "General purpose",
    "gpuNum": 0,
    "hideHardwareSpecs": false,
    "memoryGiB": 16,
    "name": "ml.m5.xlarge",
    "vcpuNum": 4
   },
   {
    "_defaultOrder": 6,
    "_isFastLaunch": false,
    "category": "General purpose",
    "gpuNum": 0,
    "hideHardwareSpecs": false,
    "memoryGiB": 32,
    "name": "ml.m5.2xlarge",
    "vcpuNum": 8
   },
   {
    "_defaultOrder": 7,
    "_isFastLaunch": false,
    "category": "General purpose",
    "gpuNum": 0,
    "hideHardwareSpecs": false,
    "memoryGiB": 64,
    "name": "ml.m5.4xlarge",
    "vcpuNum": 16
   },
   {
    "_defaultOrder": 8,
    "_isFastLaunch": false,
    "category": "General purpose",
    "gpuNum": 0,
    "hideHardwareSpecs": false,
    "memoryGiB": 128,
    "name": "ml.m5.8xlarge",
    "vcpuNum": 32
   },
   {
    "_defaultOrder": 9,
    "_isFastLaunch": false,
    "category": "General purpose",
    "gpuNum": 0,
    "hideHardwareSpecs": false,
    "memoryGiB": 192,
    "name": "ml.m5.12xlarge",
    "vcpuNum": 48
   },
   {
    "_defaultOrder": 10,
    "_isFastLaunch": false,
    "category": "General purpose",
    "gpuNum": 0,
    "hideHardwareSpecs": false,
    "memoryGiB": 256,
    "name": "ml.m5.16xlarge",
    "vcpuNum": 64
   },
   {
    "_defaultOrder": 11,
    "_isFastLaunch": false,
    "category": "General purpose",
    "gpuNum": 0,
    "hideHardwareSpecs": false,
    "memoryGiB": 384,
    "name": "ml.m5.24xlarge",
    "vcpuNum": 96
   },
   {
    "_defaultOrder": 12,
    "_isFastLaunch": false,
    "category": "General purpose",
    "gpuNum": 0,
    "hideHardwareSpecs": false,
    "memoryGiB": 8,
    "name": "ml.m5d.large",
    "vcpuNum": 2
   },
   {
    "_defaultOrder": 13,
    "_isFastLaunch": false,
    "category": "General purpose",
    "gpuNum": 0,
    "hideHardwareSpecs": false,
    "memoryGiB": 16,
    "name": "ml.m5d.xlarge",
    "vcpuNum": 4
   },
   {
    "_defaultOrder": 14,
    "_isFastLaunch": false,
    "category": "General purpose",
    "gpuNum": 0,
    "hideHardwareSpecs": false,
    "memoryGiB": 32,
    "name": "ml.m5d.2xlarge",
    "vcpuNum": 8
   },
   {
    "_defaultOrder": 15,
    "_isFastLaunch": false,
    "category": "General purpose",
    "gpuNum": 0,
    "hideHardwareSpecs": false,
    "memoryGiB": 64,
    "name": "ml.m5d.4xlarge",
    "vcpuNum": 16
   },
   {
    "_defaultOrder": 16,
    "_isFastLaunch": false,
    "category": "General purpose",
    "gpuNum": 0,
    "hideHardwareSpecs": false,
    "memoryGiB": 128,
    "name": "ml.m5d.8xlarge",
    "vcpuNum": 32
   },
   {
    "_defaultOrder": 17,
    "_isFastLaunch": false,
    "category": "General purpose",
    "gpuNum": 0,
    "hideHardwareSpecs": false,
    "memoryGiB": 192,
    "name": "ml.m5d.12xlarge",
    "vcpuNum": 48
   },
   {
    "_defaultOrder": 18,
    "_isFastLaunch": false,
    "category": "General purpose",
    "gpuNum": 0,
    "hideHardwareSpecs": false,
    "memoryGiB": 256,
    "name": "ml.m5d.16xlarge",
    "vcpuNum": 64
   },
   {
    "_defaultOrder": 19,
    "_isFastLaunch": false,
    "category": "General purpose",
    "gpuNum": 0,
    "hideHardwareSpecs": false,
    "memoryGiB": 384,
    "name": "ml.m5d.24xlarge",
    "vcpuNum": 96
   },
   {
    "_defaultOrder": 20,
    "_isFastLaunch": false,
    "category": "General purpose",
    "gpuNum": 0,
    "hideHardwareSpecs": true,
    "memoryGiB": 0,
    "name": "ml.geospatial.interactive",
    "supportedImageNames": [
     "sagemaker-geospatial-v1-0"
    ],
    "vcpuNum": 0
   },
   {
    "_defaultOrder": 21,
    "_isFastLaunch": true,
    "category": "Compute optimized",
    "gpuNum": 0,
    "hideHardwareSpecs": false,
    "memoryGiB": 4,
    "name": "ml.c5.large",
    "vcpuNum": 2
   },
   {
    "_defaultOrder": 22,
    "_isFastLaunch": false,
    "category": "Compute optimized",
    "gpuNum": 0,
    "hideHardwareSpecs": false,
    "memoryGiB": 8,
    "name": "ml.c5.xlarge",
    "vcpuNum": 4
   },
   {
    "_defaultOrder": 23,
    "_isFastLaunch": false,
    "category": "Compute optimized",
    "gpuNum": 0,
    "hideHardwareSpecs": false,
    "memoryGiB": 16,
    "name": "ml.c5.2xlarge",
    "vcpuNum": 8
   },
   {
    "_defaultOrder": 24,
    "_isFastLaunch": false,
    "category": "Compute optimized",
    "gpuNum": 0,
    "hideHardwareSpecs": false,
    "memoryGiB": 32,
    "name": "ml.c5.4xlarge",
    "vcpuNum": 16
   },
   {
    "_defaultOrder": 25,
    "_isFastLaunch": false,
    "category": "Compute optimized",
    "gpuNum": 0,
    "hideHardwareSpecs": false,
    "memoryGiB": 72,
    "name": "ml.c5.9xlarge",
    "vcpuNum": 36
   },
   {
    "_defaultOrder": 26,
    "_isFastLaunch": false,
    "category": "Compute optimized",
    "gpuNum": 0,
    "hideHardwareSpecs": false,
    "memoryGiB": 96,
    "name": "ml.c5.12xlarge",
    "vcpuNum": 48
   },
   {
    "_defaultOrder": 27,
    "_isFastLaunch": false,
    "category": "Compute optimized",
    "gpuNum": 0,
    "hideHardwareSpecs": false,
    "memoryGiB": 144,
    "name": "ml.c5.18xlarge",
    "vcpuNum": 72
   },
   {
    "_defaultOrder": 28,
    "_isFastLaunch": false,
    "category": "Compute optimized",
    "gpuNum": 0,
    "hideHardwareSpecs": false,
    "memoryGiB": 192,
    "name": "ml.c5.24xlarge",
    "vcpuNum": 96
   },
   {
    "_defaultOrder": 29,
    "_isFastLaunch": true,
    "category": "Accelerated computing",
    "gpuNum": 1,
    "hideHardwareSpecs": false,
    "memoryGiB": 16,
    "name": "ml.g4dn.xlarge",
    "vcpuNum": 4
   },
   {
    "_defaultOrder": 30,
    "_isFastLaunch": false,
    "category": "Accelerated computing",
    "gpuNum": 1,
    "hideHardwareSpecs": false,
    "memoryGiB": 32,
    "name": "ml.g4dn.2xlarge",
    "vcpuNum": 8
   },
   {
    "_defaultOrder": 31,
    "_isFastLaunch": false,
    "category": "Accelerated computing",
    "gpuNum": 1,
    "hideHardwareSpecs": false,
    "memoryGiB": 64,
    "name": "ml.g4dn.4xlarge",
    "vcpuNum": 16
   },
   {
    "_defaultOrder": 32,
    "_isFastLaunch": false,
    "category": "Accelerated computing",
    "gpuNum": 1,
    "hideHardwareSpecs": false,
    "memoryGiB": 128,
    "name": "ml.g4dn.8xlarge",
    "vcpuNum": 32
   },
   {
    "_defaultOrder": 33,
    "_isFastLaunch": false,
    "category": "Accelerated computing",
    "gpuNum": 4,
    "hideHardwareSpecs": false,
    "memoryGiB": 192,
    "name": "ml.g4dn.12xlarge",
    "vcpuNum": 48
   },
   {
    "_defaultOrder": 34,
    "_isFastLaunch": false,
    "category": "Accelerated computing",
    "gpuNum": 1,
    "hideHardwareSpecs": false,
    "memoryGiB": 256,
    "name": "ml.g4dn.16xlarge",
    "vcpuNum": 64
   },
   {
    "_defaultOrder": 35,
    "_isFastLaunch": false,
    "category": "Accelerated computing",
    "gpuNum": 1,
    "hideHardwareSpecs": false,
    "memoryGiB": 61,
    "name": "ml.p3.2xlarge",
    "vcpuNum": 8
   },
   {
    "_defaultOrder": 36,
    "_isFastLaunch": false,
    "category": "Accelerated computing",
    "gpuNum": 4,
    "hideHardwareSpecs": false,
    "memoryGiB": 244,
    "name": "ml.p3.8xlarge",
    "vcpuNum": 32
   },
   {
    "_defaultOrder": 37,
    "_isFastLaunch": false,
    "category": "Accelerated computing",
    "gpuNum": 8,
    "hideHardwareSpecs": false,
    "memoryGiB": 488,
    "name": "ml.p3.16xlarge",
    "vcpuNum": 64
   },
   {
    "_defaultOrder": 38,
    "_isFastLaunch": false,
    "category": "Accelerated computing",
    "gpuNum": 8,
    "hideHardwareSpecs": false,
    "memoryGiB": 768,
    "name": "ml.p3dn.24xlarge",
    "vcpuNum": 96
   },
   {
    "_defaultOrder": 39,
    "_isFastLaunch": false,
    "category": "Memory Optimized",
    "gpuNum": 0,
    "hideHardwareSpecs": false,
    "memoryGiB": 16,
    "name": "ml.r5.large",
    "vcpuNum": 2
   },
   {
    "_defaultOrder": 40,
    "_isFastLaunch": false,
    "category": "Memory Optimized",
    "gpuNum": 0,
    "hideHardwareSpecs": false,
    "memoryGiB": 32,
    "name": "ml.r5.xlarge",
    "vcpuNum": 4
   },
   {
    "_defaultOrder": 41,
    "_isFastLaunch": false,
    "category": "Memory Optimized",
    "gpuNum": 0,
    "hideHardwareSpecs": false,
    "memoryGiB": 64,
    "name": "ml.r5.2xlarge",
    "vcpuNum": 8
   },
   {
    "_defaultOrder": 42,
    "_isFastLaunch": false,
    "category": "Memory Optimized",
    "gpuNum": 0,
    "hideHardwareSpecs": false,
    "memoryGiB": 128,
    "name": "ml.r5.4xlarge",
    "vcpuNum": 16
   },
   {
    "_defaultOrder": 43,
    "_isFastLaunch": false,
    "category": "Memory Optimized",
    "gpuNum": 0,
    "hideHardwareSpecs": false,
    "memoryGiB": 256,
    "name": "ml.r5.8xlarge",
    "vcpuNum": 32
   },
   {
    "_defaultOrder": 44,
    "_isFastLaunch": false,
    "category": "Memory Optimized",
    "gpuNum": 0,
    "hideHardwareSpecs": false,
    "memoryGiB": 384,
    "name": "ml.r5.12xlarge",
    "vcpuNum": 48
   },
   {
    "_defaultOrder": 45,
    "_isFastLaunch": false,
    "category": "Memory Optimized",
    "gpuNum": 0,
    "hideHardwareSpecs": false,
    "memoryGiB": 512,
    "name": "ml.r5.16xlarge",
    "vcpuNum": 64
   },
   {
    "_defaultOrder": 46,
    "_isFastLaunch": false,
    "category": "Memory Optimized",
    "gpuNum": 0,
    "hideHardwareSpecs": false,
    "memoryGiB": 768,
    "name": "ml.r5.24xlarge",
    "vcpuNum": 96
   },
   {
    "_defaultOrder": 47,
    "_isFastLaunch": false,
    "category": "Accelerated computing",
    "gpuNum": 1,
    "hideHardwareSpecs": false,
    "memoryGiB": 16,
    "name": "ml.g5.xlarge",
    "vcpuNum": 4
   },
   {
    "_defaultOrder": 48,
    "_isFastLaunch": false,
    "category": "Accelerated computing",
    "gpuNum": 1,
    "hideHardwareSpecs": false,
    "memoryGiB": 32,
    "name": "ml.g5.2xlarge",
    "vcpuNum": 8
   },
   {
    "_defaultOrder": 49,
    "_isFastLaunch": false,
    "category": "Accelerated computing",
    "gpuNum": 1,
    "hideHardwareSpecs": false,
    "memoryGiB": 64,
    "name": "ml.g5.4xlarge",
    "vcpuNum": 16
   },
   {
    "_defaultOrder": 50,
    "_isFastLaunch": false,
    "category": "Accelerated computing",
    "gpuNum": 1,
    "hideHardwareSpecs": false,
    "memoryGiB": 128,
    "name": "ml.g5.8xlarge",
    "vcpuNum": 32
   },
   {
    "_defaultOrder": 51,
    "_isFastLaunch": false,
    "category": "Accelerated computing",
    "gpuNum": 1,
    "hideHardwareSpecs": false,
    "memoryGiB": 256,
    "name": "ml.g5.16xlarge",
    "vcpuNum": 64
   },
   {
    "_defaultOrder": 52,
    "_isFastLaunch": false,
    "category": "Accelerated computing",
    "gpuNum": 4,
    "hideHardwareSpecs": false,
    "memoryGiB": 192,
    "name": "ml.g5.12xlarge",
    "vcpuNum": 48
   },
   {
    "_defaultOrder": 53,
    "_isFastLaunch": false,
    "category": "Accelerated computing",
    "gpuNum": 4,
    "hideHardwareSpecs": false,
    "memoryGiB": 384,
    "name": "ml.g5.24xlarge",
    "vcpuNum": 96
   },
   {
    "_defaultOrder": 54,
    "_isFastLaunch": false,
    "category": "Accelerated computing",
    "gpuNum": 8,
    "hideHardwareSpecs": false,
    "memoryGiB": 768,
    "name": "ml.g5.48xlarge",
    "vcpuNum": 192
   },
   {
    "_defaultOrder": 55,
    "_isFastLaunch": false,
    "category": "Accelerated computing",
    "gpuNum": 8,
    "hideHardwareSpecs": false,
    "memoryGiB": 1152,
    "name": "ml.p4d.24xlarge",
    "vcpuNum": 96
   },
   {
    "_defaultOrder": 56,
    "_isFastLaunch": false,
    "category": "Accelerated computing",
    "gpuNum": 8,
    "hideHardwareSpecs": false,
    "memoryGiB": 1152,
    "name": "ml.p4de.24xlarge",
    "vcpuNum": 96
   }
  ],
  "instance_type": "ml.t3.medium",
  "kernelspec": {
   "display_name": "conda_python3",
   "language": "python",
   "name": "conda_python3"
  },
  "language_info": {
   "codemirror_mode": {
    "name": "ipython",
    "version": 3
   },
   "file_extension": ".py",
   "mimetype": "text/x-python",
   "name": "python",
   "nbconvert_exporter": "python",
   "pygments_lexer": "ipython3",
   "version": "3.10.13"
  }
 },
 "nbformat": 4,
 "nbformat_minor": 4
}